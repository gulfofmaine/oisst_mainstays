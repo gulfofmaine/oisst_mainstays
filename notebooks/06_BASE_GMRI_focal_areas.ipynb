{
 "cells": [
  {
   "cell_type": "markdown",
   "metadata": {},
   "source": [
    "# OISST Timeseries - GMRI SST Focal Areas\n",
    "\n",
    "**ABOUT:**\n",
    "Timelines of temperature anomalies, their variance, and their likelihood for areas of special interest to GMRI.\n",
    "\n",
    "## Product 4. OISST Regional Timeseries\n",
    "\n",
    "\n",
    "**Objective: Calculate full sea surface temperature histories for the GMRI Focal Areas**"
   ]
  },
  {
   "cell_type": "code",
   "execution_count": 1,
   "metadata": {},
   "outputs": [
    {
     "name": "stdout",
     "output_type": "stream",
     "text": [
      "Working via local directory at: /Users/akemberling/Box/\n"
     ]
    },
    {
     "data": {
      "text/plain": [
       "{'divide': 'warn', 'over': 'warn', 'under': 'ignore', 'invalid': 'warn'}"
      ]
     },
     "execution_count": 1,
     "metadata": {},
     "output_type": "execute_result"
    }
   ],
   "source": [
    "# Load Packages\n",
    "import xarray as xr\n",
    "import numpy as np\n",
    "import pandas as pd\n",
    "import matplotlib.pyplot as plt\n",
    "import warnings\n",
    "import os\n",
    "import geopandas as gpd\n",
    "import regionmask\n",
    "import math\n",
    "\n",
    "# Set the workspace - local/ docker\n",
    "workspace = \"local\"\n",
    "\n",
    "# Root paths\n",
    "root_locations = {\"local\"  : \"/Users/akemberling/Box/\",\n",
    "                  \"docker\" : \"/home/jovyan/\"}\n",
    "\n",
    "\n",
    "# Set root\n",
    "box_root = root_locations[workspace]\n",
    "print(f\"Working via {workspace} directory at: {box_root}\")\n",
    "\n",
    "\n",
    "#Suppress divide by NA error that occurs when getting mean from array\n",
    "np.seterr(divide = 'ignore', invalid = 'ignore')"
   ]
  },
  {
   "cell_type": "markdown",
   "metadata": {},
   "source": [
    "## Step 1: Load Focal Areas\n",
    "\n",
    "As a favor for myself I put the R code to generate the focal areas, as well as a description of their origins and uses within `R/GMRI_Temperature_Focus_Areas.R`\n",
    "\n",
    "As of 12/8/2020 these include:\n",
    " * Andy Pershing's Gulf of Maine Bounding Box for SST Updates\n",
    " * The \"Gulf of Maine\" extent used for the continuous plankton recorder analysis\n",
    " * The Northwest Atlantic Region, useful for larger trends of Gulf of Maine as well as Labrador Sea"
   ]
  },
  {
   "cell_type": "code",
   "execution_count": 6,
   "metadata": {},
   "outputs": [
    {
     "data": {
      "text/plain": [
       "<matplotlib.axes._subplots.AxesSubplot at 0x7fa8832eccf8>"
      ]
     },
     "execution_count": 6,
     "metadata": {},
     "output_type": "execute_result"
    },
    {
     "data": {
      "image/png": "[encoded data removed]",
      "text/plain": [
       "<Figure size 432x288 with 1 Axes>"
      ]
     },
     "metadata": {
      "needs_background": "light"
     },
     "output_type": "display_data"
    }
   ],
   "source": [
    "# Load gmri focal regions - created in R code,\n",
    "focal_area_paths = {\n",
    "    \"APershing Gulf of Maine\"   : f\"{box_root}RES_Data/Shapefiles/gmri_sst_focal_areas/apershing_gulf_of_maine.geojson\",\n",
    "    \"CPR Gulf of Maine\"         : f\"{box_root}RES_Data/Shapefiles/gmri_sst_focal_areas/cpr_gulf_of_maine.geojson\",\n",
    "    \"Northwest Atlantic\"        : f\"{box_root}RES_Data/Shapefiles/gmri_sst_focal_areas/aak_northwest_atlantic.geojson\"}\n",
    "\n",
    "# Dictionary to path lookup table\n",
    "focal_area_info = pd.DataFrame.from_dict(focal_area_paths, orient = \"index\", columns = [\"path\"])\n",
    "focal_area_info = focal_area_info.reset_index().rename(columns = {\"index\": \"area\"})\n",
    "\n",
    "# Load polygons\n",
    "focal_areas = []\n",
    "for i, area_path in focal_area_info.iterrows():\n",
    "    shape = gpd.read_file(area_path.path)\n",
    "    focal_areas.append(shape)\n",
    "\n",
    "# Plot names\n",
    "for area in focal_areas:\n",
    "    print(area[\"area\"])\n"
   ]
  },
  {
   "cell_type": "markdown",
   "metadata": {},
   "source": [
    "## Step 2: Load OISST Collection\n",
    "\n",
    "Timelines for these area haven't been calculates yet so it should be possible to do the full thing all at once. Steps are to load the observed data, get what the mean sst is for every day as a timeseries, as well as what the climatology is for that day of the year."
   ]
  },
  {
   "cell_type": "code",
   "execution_count": 7,
   "metadata": {},
   "outputs": [],
   "source": [
    "# Append netcdf paths together\n",
    "fpaths = []\n",
    "for yr in range(1981, 2020 + 1):\n",
    "    fpaths.append(f'{box_root}RES_Data/OISST/oisst_mainstays/annual_observations/sst.day.mean.{yr}.v2.nc')\n",
    "\n",
    "# Lazy-load the data itself using xr.open_mfdataset\n",
    "oisst = xr.open_mfdataset(fpaths, combine = \"by_coords\", parallel = False)\n",
    "\n",
    "\n",
    "# Add modified ordinal day, for day-to-day calculation and leapyear adjustment\n",
    "not_leap_year  = ~oisst.indexes['time'].is_leap_year\n",
    "march_or_later = oisst.time.dt.month >= 3\n",
    "ordinal_day    = oisst.time.dt.dayofyear\n",
    "modified_ordinal_day = ordinal_day + (not_leap_year & march_or_later)\n",
    "\n",
    "# Assign MOD coordinate\n",
    "oisst = oisst.assign_coords(modified_ordinal_day = modified_ordinal_day)"
   ]
  },
  {
   "cell_type": "markdown",
   "metadata": {},
   "source": [
    "## Step 3: Load OISST Climatology\n",
    "\n",
    "From the global extent climatology we will want to get regional means for the areas of interest."
   ]
  },
  {
   "cell_type": "code",
   "execution_count": 8,
   "metadata": {},
   "outputs": [],
   "source": [
    "# Load the OISST Climatology\n",
    "oisst_clim = xr.open_dataset(f'{box_root}RES_Data/OISST/oisst_mainstays/daily_climatologies/daily_clims_1982to2011.nc')\n"
   ]
  },
  {
   "cell_type": "markdown",
   "metadata": {},
   "source": [
    "## Step 4: Create Masked Timeseries\n",
    "\n",
    "So the steps to create a masked timeseries are straightforward. Once everything is prepped you simply create a mask with the geometry of the polygon of interest. You then extract the cells that fall within it, and calculatet the mean temperature and standard deviation for the area for each time step. These steps are repeated for the raw observations as well as the climate means in order to get anomalies from the 82-2011 climatology."
   ]
  },
  {
   "cell_type": "code",
   "execution_count": 9,
   "metadata": {},
   "outputs": [],
   "source": [
    "# Global settings\n",
    "var_name = \"sst\"\n",
    "grid_ds = oisst\n",
    "clim_ds = oisst_clim\n",
    "\n",
    "# list to store them un-appended\n",
    "new_ts = []\n",
    "\n",
    "##### Super loop for all the LME's  ####\n",
    "for i, area in focal_area_info.iterrows():\n",
    "    \n",
    "    \n",
    "    # Grab the shape object the we are looping through\n",
    "    shp_obj = focal_areas[i] \n",
    "    shp_name = area[\"area\"]\n",
    "    poly_name = area[\"area\"].replace(\" \", \"_\").lower()  \n",
    "    \n",
    "    \n",
    "    ##\n",
    "    # 1. Calculate Mu and Sigma from climatology for area within polygon\n",
    "    ##\n",
    "\n",
    "    # a. Set up naming convention for var of interest\n",
    "    clim_name = f\"{var_name}_clim\"\n",
    "    sd_name   = f\"clim_sd\"\n",
    "\n",
    "    # b. Make the mask\n",
    "    area_mask = regionmask.Regions(shp_obj.geometry,\n",
    "                                   name = shp_name)\n",
    "\n",
    "    # c. Mask the array to get nan test\n",
    "    mask = area_mask.mask(clim_ds, lon_name = \"lon\", lat_name = \"lat\")\n",
    "\n",
    "    # d. Extract data that falls within the mask\n",
    "    masked_ds = clim_ds.where(~np.isnan(mask))\n",
    "\n",
    "    # e. Calculate timeseries mean and sd\n",
    "    masked_ts = getattr(masked_ds, var_name).mean(dim = (\"lat\", \"lon\"))#\n",
    "    masked_ts[f\"{sd_name}\"] = getattr(masked_ds, var_name).std(dim = (\"lat\", \"lon\"))\n",
    "\n",
    "\n",
    "    # f. Format masked timeseries dataframe\n",
    "    regional_climatology = masked_ts.to_dataframe()\n",
    "    regional_climatology = regional_climatology.reset_index()\n",
    "    regional_climatology = regional_climatology.rename(columns = {f\"{var_name}\" : f\"{clim_name}\"})\n",
    "    \n",
    "\n",
    "\n",
    "    ##\n",
    "    # 2. Calculate Mean Var Timeline from Observed Data for Area Within Polygon\n",
    "    ##\n",
    "\n",
    "\n",
    "    # a. Make the mask\n",
    "    area_mask = regionmask.Regions(shp_obj.geometry,\n",
    "                                   name = shp_name)\n",
    "\n",
    "    # b. Mask the array with gom_mask to get nan test\n",
    "    mask = area_mask.mask(grid_ds, lon_name = \"lon\", lat_name = \"lat\")\n",
    "\n",
    "    # c. Extract data that falls within the mask\n",
    "    masked_ds = grid_ds.where(~np.isnan(mask))\n",
    "\n",
    "    # d. Calculate timeseries mean and sd\n",
    "    masked_ts = getattr(masked_ds, var_name).mean(dim = (\"lat\", \"lon\"))\n",
    "\n",
    "\n",
    "    # e. Masked Timeseries Dataframe\n",
    "    regional_means = masked_ts.to_dataframe()\n",
    "    regional_means = regional_means.reset_index()\n",
    "    regional_means[\"time\"] = pd.to_datetime(regional_means[\"time\"])\n",
    "\n",
    "\n",
    "    ##\n",
    "    # 3. Log-Likelihood Estimate\n",
    "    ##\n",
    "\n",
    "    # Merge on MOD\n",
    "    anom_timeline = regional_means.merge(regional_climatology, how = \"left\", on = \"modified_ordinal_day\")\n",
    "\n",
    "    #Set index as the date\n",
    "    anom_timeline.index = anom_timeline.index = anom_timeline[\"time\"]\n",
    "    anom_timeline = anom_timeline.drop([\"time\"], axis = 1)\n",
    "\n",
    "    #Calc anoms\n",
    "    anom_timeline = anom_timeline.assign(anom = anom_timeline[f\"{var_name}\"] - anom_timeline[f\"{clim_name}\"])\n",
    "    anom_timeline = anom_timeline.rename(columns = { \"anom\" : f\"{var_name}_anom\"})\n",
    "\n",
    "    # get likelihood\n",
    "    def calc_ll(row):\n",
    "        # log likelihood \n",
    "        n = 1\n",
    "        anom  = row[f\"{var_name}\"]\n",
    "        sigma = row[\"clim_sd\"]\n",
    "        mu    = row[f\"{clim_name}\"]\n",
    "        log_lik = n * math.log(2 * math.pi * (sigma ** 2)) / 2 + np.sum(((anom - mu) ** 2) / (2 * (sigma ** 2)))\n",
    "        return log_lik\n",
    "\n",
    "    #anom_timeline.apply(llnorm, axis = 1, args = anom_timeline[[\"sst_clim\", \"clim_sd\", \"sst_anom\"]])\n",
    "    anom_timeline[\"log_lik\"] = anom_timeline.apply(calc_ll, axis = 1)\n",
    "    anom_timeline = anom_timeline.reset_index()\n",
    "    \n",
    "    # re-order columns for peace of mind\n",
    "    anom_timeline = anom_timeline[[\"time\", \"modified_ordinal_day\", \"sst\", \"sst_clim\", \"sst_anom\", \"clim_sd\", \"log_lik\"]]\n",
    "    \n",
    "    # add to list\n",
    "    new_ts.append(anom_timeline)"
   ]
  },
  {
   "cell_type": "markdown",
   "metadata": {},
   "source": [
    "## Validation: Table inspection and Plot"
   ]
  },
  {
   "cell_type": "code",
   "execution_count": 12,
   "metadata": {},
   "outputs": [
    {
     "data": {
      "text/html": [
       "<div>\n",
       "<style scoped>\n",
       "    .dataframe tbody tr th:only-of-type {\n",
       "        vertical-align: middle;\n",
       "    }\n",
       "\n",
       "    .dataframe tbody tr th {\n",
       "        vertical-align: top;\n",
       "    }\n",
       "\n",
       "    .dataframe thead th {\n",
       "        text-align: right;\n",
       "    }\n",
       "</style>\n",
       "<table border=\"1\" class=\"dataframe\">\n",
       "  <thead>\n",
       "    <tr style=\"text-align: right;\">\n",
       "      <th></th>\n",
       "      <th>time</th>\n",
       "      <th>modified_ordinal_day</th>\n",
       "      <th>sst</th>\n",
       "      <th>sst_clim</th>\n",
       "      <th>sst_anom</th>\n",
       "      <th>clim_sd</th>\n",
       "      <th>log_lik</th>\n",
       "    </tr>\n",
       "  </thead>\n",
       "  <tbody>\n",
       "    <tr>\n",
       "      <th>0</th>\n",
       "      <td>1981-09-01</td>\n",
       "      <td>245</td>\n",
       "      <td>15.780159</td>\n",
       "      <td>16.723976</td>\n",
       "      <td>-0.943817</td>\n",
       "      <td>2.316235</td>\n",
       "      <td>1.841901</td>\n",
       "    </tr>\n",
       "    <tr>\n",
       "      <th>1</th>\n",
       "      <td>1981-09-02</td>\n",
       "      <td>246</td>\n",
       "      <td>15.787786</td>\n",
       "      <td>16.673674</td>\n",
       "      <td>-0.885887</td>\n",
       "      <td>2.291156</td>\n",
       "      <td>1.822746</td>\n",
       "    </tr>\n",
       "    <tr>\n",
       "      <th>2</th>\n",
       "      <td>1981-09-03</td>\n",
       "      <td>247</td>\n",
       "      <td>15.494051</td>\n",
       "      <td>16.637266</td>\n",
       "      <td>-1.143215</td>\n",
       "      <td>2.279409</td>\n",
       "      <td>1.868626</td>\n",
       "    </tr>\n",
       "    <tr>\n",
       "      <th>3</th>\n",
       "      <td>1981-09-04</td>\n",
       "      <td>248</td>\n",
       "      <td>14.993513</td>\n",
       "      <td>16.595829</td>\n",
       "      <td>-1.602316</td>\n",
       "      <td>2.251474</td>\n",
       "      <td>1.983764</td>\n",
       "    </tr>\n",
       "    <tr>\n",
       "      <th>4</th>\n",
       "      <td>1981-09-05</td>\n",
       "      <td>249</td>\n",
       "      <td>14.843195</td>\n",
       "      <td>16.510935</td>\n",
       "      <td>-1.667740</td>\n",
       "      <td>2.209511</td>\n",
       "      <td>1.996572</td>\n",
       "    </tr>\n",
       "  </tbody>\n",
       "</table>\n",
       "</div>"
      ],
      "text/plain": [
       "        time  modified_ordinal_day        sst   sst_clim  sst_anom   clim_sd  \\\n",
       "0 1981-09-01                   245  15.780159  16.723976 -0.943817  2.316235   \n",
       "1 1981-09-02                   246  15.787786  16.673674 -0.885887  2.291156   \n",
       "2 1981-09-03                   247  15.494051  16.637266 -1.143215  2.279409   \n",
       "3 1981-09-04                   248  14.993513  16.595829 -1.602316  2.251474   \n",
       "4 1981-09-05                   249  14.843195  16.510935 -1.667740  2.209511   \n",
       "\n",
       "    log_lik  \n",
       "0  1.841901  \n",
       "1  1.822746  \n",
       "2  1.868626  \n",
       "3  1.983764  \n",
       "4  1.996572  "
      ]
     },
     "execution_count": 12,
     "metadata": {},
     "output_type": "execute_result"
    }
   ],
   "source": [
    "new_ts[0].head()"
   ]
  },
  {
   "cell_type": "code",
   "execution_count": 13,
   "metadata": {},
   "outputs": [
    {
     "data": {
      "text/plain": [
       "<matplotlib.axes._subplots.AxesSubplot at 0x7fa5699d7208>"
      ]
     },
     "execution_count": 13,
     "metadata": {},
     "output_type": "execute_result"
    },
    {
     "data": {
      "image/png": "[encoded data removed]",
      "text/plain": [
       "<Figure size 432x288 with 1 Axes>"
      ]
     },
     "metadata": {
      "needs_background": "light"
     },
     "output_type": "display_data"
    }
   ],
   "source": [
    "new_ts[0].plot(\"time\", \"sst_anom\")"
   ]
  },
  {
   "cell_type": "markdown",
   "metadata": {},
   "source": [
    "## Step 5: Export"
   ]
  },
  {
   "cell_type": "code",
   "execution_count": 14,
   "metadata": {},
   "outputs": [],
   "source": [
    "# Information Constants\n",
    "\n",
    "# Timeseries destination folder\n",
    "out_folder   = f\"{box_root}RES_Data/OISST/oisst_mainstays/regional_timeseries/gmri_sst_focal_areas\"\n",
    "\n",
    "# Anomaly Grid Name\n",
    "grid_name    = \"OISSTv2_anom\"\n",
    "\n",
    "\n",
    "##### Loop through all the areas  ####\n",
    "for i, area in focal_area_info.iterrows():\n",
    "    \n",
    "    # Fix the spaces and other characters in the name\n",
    "    mask_name = area[\"area\"].replace(\" \", \"_\").replace(\"-\", \"_\").replace(\"___\", \"_\").replace(\"__\", \"_\").lower()  \n",
    "    \n",
    "    # Path to the timeseries\n",
    "    out_path = f\"{out_folder}/{grid_name}_{mask_name}.csv\"\n",
    "    \n",
    "    # And export\n",
    "    new_ts[i].to_csv(out_path, index = False)"
   ]
  },
  {
   "cell_type": "code",
   "execution_count": null,
   "metadata": {},
   "outputs": [],
   "source": []
  }
 ],
 "metadata": {
  "kernelspec": {
   "display_name": "Python 3",
   "language": "python",
   "name": "python3"
  },
  "language_info": {
   "codemirror_mode": {
    "name": "ipython",
    "version": 3
   },
   "file_extension": ".py",
   "mimetype": "text/x-python",
   "name": "python",
   "nbconvert_exporter": "python",
   "pygments_lexer": "ipython3",
   "version": "3.6.7"
  }
 },
 "nbformat": 4,
 "nbformat_minor": 4
}
