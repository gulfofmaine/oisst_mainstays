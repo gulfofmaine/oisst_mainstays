{
 "cells": [
  {
   "cell_type": "markdown",
   "metadata": {},
   "source": [
    "# OISST Timeseries - GMRI SST Focal Areas\n",
    "\n",
    "**ABOUT:**\n",
    "Timelines of temperature anomalies, their variance, and their likelihood for areas of special interest to GMRI.\n",
    "\n",
    "## Product 4. OISST Regional Timeseries\n",
    "\n",
    "\n",
    "**Objective: Calculate full sea surface temperature histories for the GMRI Focal Areas**"
   ]
  },
  {
   "cell_type": "code",
   "execution_count": 1,
   "metadata": {},
   "outputs": [],
   "source": [
    "# Load Packages\n",
    "import xarray as xr\n",
    "import numpy as np\n",
    "import pandas as pd\n",
    "import matplotlib.pyplot as plt\n",
    "import warnings\n",
    "import os\n",
    "import geopandas as gpd\n",
    "import regionmask\n",
    "import math"
   ]
  },
  {
   "cell_type": "markdown",
   "metadata": {},
   "source": [
    "## Step 1: Load Focal Areas\n",
    "\n",
    "As a favor for myself I put the R code to generate the focal areas, as well as a description of their origins and uses within `R/GMRI_Temperature_Focus_Areas.R`\n",
    "\n",
    "As of 12/8/2020 these include:\n",
    " * Andy Pershing's Gulf of Maine Bounding Box for SST Updates\n",
    " * The \"Gulf of Maine\" extent used for the continuous plankton recorder analysis\n",
    " * The Northwest Atlantic Region, useful for larger trends of Gulf of Maine as well as Labrador Sea"
   ]
  },
  {
   "cell_type": "code",
   "execution_count": 13,
   "metadata": {},
   "outputs": [
    {
     "name": "stdout",
     "output_type": "stream",
     "text": [
      "0    Gulf of Maine\n",
      "Name: area, dtype: object\n",
      "0    CPR Gulf of Maine\n",
      "Name: area, dtype: object\n",
      "0    Northwest Atlantic\n",
      "Name: area, dtype: object\n"
     ]
    }
   ],
   "source": [
    "# Load gmri focal regions - created in R code,\n",
    "focal_area_paths = {\n",
    "    \"APershing Gulf of Maine\"   : \"RES_Data/Shapefiles/gmri_sst_focal_areas/apershing_gulf_of_maine.geojson\",\n",
    "    \"CPR Gulf of Maine\"         : \"RES_Data/Shapefiles/gmri_sst_focal_areas/cpr_gulf_of_maine.geojson\",\n",
    "    \"Northwest Atlantic\"        : \"RES_Data/Shapefiles/gmri_sst_focal_areas/aak_northwest_atlantic.geojson\"}\n",
    "\n",
    "# Dictionary to path lookup table\n",
    "focal_area_info = pd.DataFrame.from_dict(focal_area_paths, orient = \"index\", columns = [\"path\"])\n",
    "focal_area_info = focal_area_info.reset_index().rename(columns = {\"index\": \"area\"})\n",
    "\n",
    "# Load polygons\n",
    "focal_areas = []\n",
    "for i, area_path in focal_area_info.iterrows():\n",
    "    shape = gpd.read_file(area_path.path)\n",
    "    focal_areas.append(shape)\n",
    "\n",
    "# Plot names\n",
    "for area in focal_areas:\n",
    "    print(area[\"area\"])\n"
   ]
  },
  {
   "cell_type": "markdown",
   "metadata": {},
   "source": [
    "## Step 2: Load OISST Collection\n",
    "\n",
    "Timelines for these area haven't been calculates yet so it should be possible to do the full thing all at once. Steps are to load the observed data, get what the mean sst is for every day as a timeseries, as well as what the climatology is for that day of the year."
   ]
  },
  {
   "cell_type": "code",
   "execution_count": 14,
   "metadata": {},
   "outputs": [
    {
     "data": {
      "text/html": [
       "<pre>&lt;xarray.Dataset&gt;\n",
       "Dimensions:               (lat: 720, lon: 1440, time: 14339)\n",
       "Coordinates:\n",
       "  * lon                   (lon) float32 0.125 0.375 0.625 ... 359.625 359.875\n",
       "  * lat                   (lat) float32 -89.875 -89.625 ... 89.625 89.875\n",
       "  * time                  (time) datetime64[ns] 1981-09-01 ... 2020-12-03\n",
       "    modified_ordinal_day  (time) int64 244 245 246 247 248 ... 336 337 338 339\n",
       "Data variables:\n",
       "    sst                   (time, lat, lon) float32 dask.array&lt;chunksize=(122, 720, 1440), meta=np.ndarray&gt;\n",
       "Attributes:\n",
       "    Conventions:    CF-1.5\n",
       "    title:          NOAA High-resolution Blended Analysis: Daily Values using...\n",
       "    institution:    NOAA/NCDC\n",
       "    source:         NOAA/NCDC  ftp://eclipse.ncdc.noaa.gov/pub/OI-daily-v2/\n",
       "    comment:        Reynolds, et al., 2007: Daily High-Resolution-Blended Ana...\n",
       "    history:        Thu Aug 24 13:34:17 2017: ncatted -O -a References,global...\n",
       "    references:     https://www.esrl.noaa.gov/psd/data/gridded/data.noaa.oiss...\n",
       "    dataset_title:  NOAA Daily Optimum Interpolation Sea Surface Temperature</pre>"
      ],
      "text/plain": [
       "<xarray.Dataset>\n",
       "Dimensions:               (lat: 720, lon: 1440, time: 14339)\n",
       "Coordinates:\n",
       "  * lon                   (lon) float32 0.125 0.375 0.625 ... 359.625 359.875\n",
       "  * lat                   (lat) float32 -89.875 -89.625 ... 89.625 89.875\n",
       "  * time                  (time) datetime64[ns] 1981-09-01 ... 2020-12-03\n",
       "    modified_ordinal_day  (time) int64 244 245 246 247 248 ... 336 337 338 339\n",
       "Data variables:\n",
       "    sst                   (time, lat, lon) float32 dask.array<chunksize=(122, 720, 1440), meta=np.ndarray>\n",
       "Attributes:\n",
       "    Conventions:    CF-1.5\n",
       "    title:          NOAA High-resolution Blended Analysis: Daily Values using...\n",
       "    institution:    NOAA/NCDC\n",
       "    source:         NOAA/NCDC  ftp://eclipse.ncdc.noaa.gov/pub/OI-daily-v2/\n",
       "    comment:        Reynolds, et al., 2007: Daily High-Resolution-Blended Ana...\n",
       "    history:        Thu Aug 24 13:34:17 2017: ncatted -O -a References,global...\n",
       "    references:     https://www.esrl.noaa.gov/psd/data/gridded/data.noaa.oiss...\n",
       "    dataset_title:  NOAA Daily Optimum Interpolation Sea Surface Temperature"
      ]
     },
     "execution_count": 14,
     "metadata": {},
     "output_type": "execute_result"
    }
   ],
   "source": [
    "# Append netcdf paths together\n",
    "fpaths = []\n",
    "for yr in range(1981, 2020 + 1):\n",
    "    #fpaths.append(f'NSF OKN Demo Data/oisst/annual_observations/sst.day.mean.{yr}.v2.nc')\n",
    "    fpaths.append(f'RES_Data/OISST/oisst_mainstays/annual_observations/sst.day.mean.{yr}.v2.nc')\n",
    "\n",
    "# Lazy-load the data itself using xr.open_mfdataset\n",
    "oisst = xr.open_mfdataset(fpaths, combine = \"by_coords\", parallel = False)\n",
    "oisst\n",
    "\n",
    "\n",
    "# Add modified ordinal day, for day-to-day calculation and leapyear adjustment\n",
    "not_leap_year = oisst.indexes['time'].is_leap_year\n",
    "march_or_later = oisst.time.dt.month >= 3\n",
    "ordinal_day = oisst.time.dt.dayofyear\n",
    "modified_ordinal_day = ordinal_day + (not_leap_year & march_or_later)\n",
    "\n",
    "# Assign MOD coordinate\n",
    "oisst = oisst.assign_coords(modified_ordinal_day = modified_ordinal_day)\n",
    "oisst"
   ]
  },
  {
   "cell_type": "markdown",
   "metadata": {},
   "source": [
    "## Step 3: Load OISST Climatology\n",
    "\n",
    "From the global extent climatology we will want to get regional means for the areas of interest."
   ]
  },
  {
   "cell_type": "code",
   "execution_count": 15,
   "metadata": {},
   "outputs": [
    {
     "data": {
      "text/html": [
       "<pre>&lt;xarray.Dataset&gt;\n",
       "Dimensions:               (lat: 720, lon: 1440, modified_ordinal_day: 366)\n",
       "Coordinates:\n",
       "  * lat                   (lat) float32 -89.875 -89.625 ... 89.625 89.875\n",
       "  * lon                   (lon) float32 0.125 0.375 0.625 ... 359.625 359.875\n",
       "  * modified_ordinal_day  (modified_ordinal_day) int64 1 2 3 4 ... 364 365 366\n",
       "Data variables:\n",
       "    sst                   (modified_ordinal_day, lat, lon) float32 ...</pre>"
      ],
      "text/plain": [
       "<xarray.Dataset>\n",
       "Dimensions:               (lat: 720, lon: 1440, modified_ordinal_day: 366)\n",
       "Coordinates:\n",
       "  * lat                   (lat) float32 -89.875 -89.625 ... 89.625 89.875\n",
       "  * lon                   (lon) float32 0.125 0.375 0.625 ... 359.625 359.875\n",
       "  * modified_ordinal_day  (modified_ordinal_day) int64 1 2 3 4 ... 364 365 366\n",
       "Data variables:\n",
       "    sst                   (modified_ordinal_day, lat, lon) float32 ..."
      ]
     },
     "execution_count": 15,
     "metadata": {},
     "output_type": "execute_result"
    }
   ],
   "source": [
    "# Load the OISST Climatology\n",
    "#oisst_clim = xr.open_dataset('NSF OKN Demo Data/oisst/daily_climatologies/daily_clims_1982to2011.nc')\n",
    "oisst_clim = xr.open_dataset('RES_Data/OISST/oisst_mainstays/daily_climatologies/daily_clims_1982to2011.nc')\n",
    "oisst_clim"
   ]
  },
  {
   "cell_type": "markdown",
   "metadata": {},
   "source": [
    "## Step 4: Create Masked Timeseries\n",
    "\n",
    "So the steps to create a masked timeseries are straightforward. Once everything is prepped you simply create a mask with the geometry of the polygon of interest. You then extract the cells that fall within it, and calculatet the mean temperature and standard deviation for the area for each time step. These steps are repeated for the raw observations as well as the climate means in order to get anomalies from the 82-2011 climatology."
   ]
  },
  {
   "cell_type": "code",
   "execution_count": 16,
   "metadata": {},
   "outputs": [],
   "source": [
    "# list to store them un-appended\n",
    "new_ts = []\n",
    "\n",
    "##### Super loop for all the LME's  ####\n",
    "for i, area in focal_area_info.iterrows():\n",
    "    \n",
    "    # naming convention from sct.regional_anom_likelihoods\n",
    "    parent_gname = \"OISSTv2\"\n",
    "    grid_ds = oisst\n",
    "    clim_ds = oisst_clim\n",
    "    \n",
    "    # Grab the shape object the we are looping through\n",
    "    shp_obj = focal_areas[i] \n",
    "    shp_name = area[\"area\"]\n",
    "    poly_name = area[\"area\"].replace(\" \", \"_\").lower()  \n",
    "    var_name = \"sst\"\n",
    "    \n",
    "    \n",
    "    \n",
    "    ##\n",
    "    # 1. Calculate Mu and Sigma from climatology for area within polygon\n",
    "    ##\n",
    "\n",
    "    # a. Set up naming convention for var of interest\n",
    "    clim_name = f\"{var_name}_clim\"\n",
    "    sd_name   = f\"clim_sd\"\n",
    "\n",
    "    # b. Make the mask\n",
    "    area_mask = regionmask.Regions(shp_obj.geometry,\n",
    "                                   name = shp_name)\n",
    "\n",
    "    # c. Mask the array to get nan test\n",
    "    mask = area_mask.mask(clim_ds, lon_name = \"lon\", lat_name = \"lat\")\n",
    "\n",
    "    # d. Extract data that falls within the mask\n",
    "    masked_ds = clim_ds.where(~np.isnan(mask))\n",
    "\n",
    "    # e. Calculate timeseries mean and sd\n",
    "    masked_ts = getattr(masked_ds, var_name).mean(dim = (\"lat\", \"lon\"))#\n",
    "    masked_ts[f\"{sd_name}\"] = getattr(masked_ds, var_name).std(dim = (\"lat\", \"lon\"))\n",
    "\n",
    "\n",
    "    # f. Format masked timeseries dataframe\n",
    "    regional_climatology = masked_ts.to_dataframe()\n",
    "    regional_climatology = regional_climatology.reset_index()\n",
    "    regional_climatology = regional_climatology.rename(columns = {f\"{var_name}\" : f\"{clim_name}\"})\n",
    "    \n",
    "\n",
    "\n",
    "    ##\n",
    "    # 2. Calculate Mean Var Timeline from Observed Data for Area Within Polygon\n",
    "    ##\n",
    "\n",
    "\n",
    "    # a. Make the mask\n",
    "    area_mask = regionmask.Regions(shp_obj.geometry,\n",
    "                                   name = shp_name)\n",
    "\n",
    "    # b. Mask the array with gom_mask to get nan test\n",
    "    mask = area_mask.mask(grid_ds, lon_name = \"lon\", lat_name = \"lat\")\n",
    "\n",
    "    # c. Extract data that falls within the mask\n",
    "    masked_ds = grid_ds.where(~np.isnan(mask))\n",
    "\n",
    "    # d. Calculate timeseries mean and sd\n",
    "    masked_ts = getattr(masked_ds, var_name).mean(dim = (\"lat\", \"lon\"))\n",
    "\n",
    "\n",
    "    # e. Masked Timeseries Dataframe\n",
    "    regional_means = masked_ts.to_dataframe()\n",
    "    regional_means = regional_means.reset_index()\n",
    "    regional_means[\"time\"] = pd.to_datetime(regional_means[\"time\"])\n",
    "\n",
    "    # f. Set up MOD for matching climatology\n",
    "    #regional_means['month'] = pd.DatetimeIndex(regional_means['time']).month\n",
    "\n",
    "\n",
    "    ##\n",
    "    # 3. Log-Likelihood Estimate\n",
    "    ##\n",
    "\n",
    "    # Merge on MOD\n",
    "    anom_timeline = regional_means.merge(regional_climatology, how = \"left\", on = \"modified_ordinal_day\")\n",
    "\n",
    "    #Set index as the date\n",
    "    anom_timeline.index = anom_timeline.index = anom_timeline[\"time\"]\n",
    "    anom_timeline = anom_timeline.drop([\"time\"], axis = 1)\n",
    "\n",
    "    #Calc anoms\n",
    "    anom_timeline = anom_timeline.assign(anom = anom_timeline[f\"{var_name}\"] - anom_timeline[f\"{clim_name}\"])\n",
    "    anom_timeline = anom_timeline.rename(columns = { \"anom\" : f\"{var_name}_anom\"})\n",
    "\n",
    "    # get likelihood\n",
    "    def calc_ll(row):\n",
    "        # log likelihood \n",
    "        n = 1\n",
    "        anom  = row[f\"{var_name}\"]\n",
    "        sigma = row[\"clim_sd\"]\n",
    "        mu    = row[f\"{clim_name}\"]\n",
    "        log_lik = n * math.log(2 * math.pi * (sigma ** 2)) / 2 + np.sum(((anom - mu) ** 2) / (2 * (sigma ** 2)))\n",
    "        return log_lik\n",
    "\n",
    "    #anom_timeline.apply(llnorm, axis = 1, args = anom_timeline[[\"sst_clim\", \"clim_sd\", \"sst_anom\"]])\n",
    "    anom_timeline[\"log_lik\"] = anom_timeline.apply(calc_ll, axis = 1)\n",
    "    anom_timeline = anom_timeline.reset_index()\n",
    "    \n",
    "    # re-order columns for peace of mind\n",
    "    anom_timeline = anom_timeline[[\"time\", \"modified_ordinal_day\", \"sst\", \"sst_clim\", \"sst_anom\", \"clim_sd\", \"log_lik\"]]\n",
    "    \n",
    "    # add to list\n",
    "    new_ts.append(anom_timeline)"
   ]
  },
  {
   "cell_type": "markdown",
   "metadata": {},
   "source": [
    "## Validation: Table inspection and Plot"
   ]
  },
  {
   "cell_type": "code",
   "execution_count": 17,
   "metadata": {},
   "outputs": [
    {
     "data": {
      "text/html": [
       "<div>\n",
       "<style scoped>\n",
       "    .dataframe tbody tr th:only-of-type {\n",
       "        vertical-align: middle;\n",
       "    }\n",
       "\n",
       "    .dataframe tbody tr th {\n",
       "        vertical-align: top;\n",
       "    }\n",
       "\n",
       "    .dataframe thead th {\n",
       "        text-align: right;\n",
       "    }\n",
       "</style>\n",
       "<table border=\"1\" class=\"dataframe\">\n",
       "  <thead>\n",
       "    <tr style=\"text-align: right;\">\n",
       "      <th></th>\n",
       "      <th>time</th>\n",
       "      <th>modified_ordinal_day</th>\n",
       "      <th>sst</th>\n",
       "      <th>sst_clim</th>\n",
       "      <th>sst_anom</th>\n",
       "      <th>clim_sd</th>\n",
       "      <th>log_lik</th>\n",
       "    </tr>\n",
       "  </thead>\n",
       "  <tbody>\n",
       "    <tr>\n",
       "      <th>0</th>\n",
       "      <td>1981-09-01</td>\n",
       "      <td>244</td>\n",
       "      <td>15.780159</td>\n",
       "      <td>16.865423</td>\n",
       "      <td>-1.085264</td>\n",
       "      <td>2.289106</td>\n",
       "      <td>1.859485</td>\n",
       "    </tr>\n",
       "    <tr>\n",
       "      <th>1</th>\n",
       "      <td>1981-09-02</td>\n",
       "      <td>245</td>\n",
       "      <td>15.787786</td>\n",
       "      <td>16.723976</td>\n",
       "      <td>-0.936190</td>\n",
       "      <td>2.316235</td>\n",
       "      <td>1.840565</td>\n",
       "    </tr>\n",
       "    <tr>\n",
       "      <th>2</th>\n",
       "      <td>1981-09-03</td>\n",
       "      <td>246</td>\n",
       "      <td>15.494051</td>\n",
       "      <td>16.673674</td>\n",
       "      <td>-1.179623</td>\n",
       "      <td>2.291156</td>\n",
       "      <td>1.880535</td>\n",
       "    </tr>\n",
       "    <tr>\n",
       "      <th>3</th>\n",
       "      <td>1981-09-04</td>\n",
       "      <td>247</td>\n",
       "      <td>14.993513</td>\n",
       "      <td>16.637266</td>\n",
       "      <td>-1.643753</td>\n",
       "      <td>2.279409</td>\n",
       "      <td>2.002870</td>\n",
       "    </tr>\n",
       "    <tr>\n",
       "      <th>4</th>\n",
       "      <td>1981-09-05</td>\n",
       "      <td>248</td>\n",
       "      <td>14.843195</td>\n",
       "      <td>16.595829</td>\n",
       "      <td>-1.752634</td>\n",
       "      <td>2.251474</td>\n",
       "      <td>2.033507</td>\n",
       "    </tr>\n",
       "  </tbody>\n",
       "</table>\n",
       "</div>"
      ],
      "text/plain": [
       "        time  modified_ordinal_day        sst   sst_clim  sst_anom   clim_sd  \\\n",
       "0 1981-09-01                   244  15.780159  16.865423 -1.085264  2.289106   \n",
       "1 1981-09-02                   245  15.787786  16.723976 -0.936190  2.316235   \n",
       "2 1981-09-03                   246  15.494051  16.673674 -1.179623  2.291156   \n",
       "3 1981-09-04                   247  14.993513  16.637266 -1.643753  2.279409   \n",
       "4 1981-09-05                   248  14.843195  16.595829 -1.752634  2.251474   \n",
       "\n",
       "    log_lik  \n",
       "0  1.859485  \n",
       "1  1.840565  \n",
       "2  1.880535  \n",
       "3  2.002870  \n",
       "4  2.033507  "
      ]
     },
     "execution_count": 17,
     "metadata": {},
     "output_type": "execute_result"
    }
   ],
   "source": [
    "new_ts[0].head()"
   ]
  },
  {
   "cell_type": "code",
   "execution_count": 20,
   "metadata": {},
   "outputs": [
    {
     "data": {
      "text/plain": [
       "<matplotlib.axes._subplots.AxesSubplot at 0x7fb8e7fd33d0>"
      ]
     },
     "execution_count": 20,
     "metadata": {},
     "output_type": "execute_result"
    },
    {
     "data": {
      "image/png": "[encoded data removed]",
      "text/plain": [
       "<Figure size 432x288 with 1 Axes>"
      ]
     },
     "metadata": {
      "needs_background": "light"
     },
     "output_type": "display_data"
    }
   ],
   "source": [
    "new_ts[0].plot(\"time\", \"sst_anom\")"
   ]
  },
  {
   "cell_type": "markdown",
   "metadata": {},
   "source": [
    "## Step 5: Export"
   ]
  },
  {
   "cell_type": "code",
   "execution_count": 21,
   "metadata": {},
   "outputs": [],
   "source": [
    "##### Super loop for all the LME's  ####\n",
    "for i, area in focal_area_info.iterrows():\n",
    "    \n",
    "    # naming convention from sct.regional_anom_likelihoods\n",
    "    parent_gname = \"OISSTv2\"\n",
    "    mask_name = area[\"area\"].replace(\" \", \"_\").lower()  # name of the mask area\n",
    "    #out_folder = \"NSF OKN Demo Data/oisst/regional_timeseries/gmri_sst_focal_areas\"\n",
    "    out_folder = \"RES_Data/OISST/oisst_mainstays/regional_timeseries/gmri_sst_focal_areas\"\n",
    "    grid_name = \"OISSTv2_anom\"\n",
    "    \n",
    "    # Path to the timeseries\n",
    "    out_path = f\"{out_folder}/{grid_name}_{mask_name}.csv\"\n",
    "    \n",
    "    # And export\n",
    "    new_ts[i].to_csv(out_path, index = False)"
   ]
  },
  {
   "cell_type": "code",
   "execution_count": null,
   "metadata": {},
   "outputs": [],
   "source": []
  }
 ],
 "metadata": {
  "kernelspec": {
   "display_name": "Python 3",
   "language": "python",
   "name": "python3"
  },
  "language_info": {
   "codemirror_mode": {
    "name": "ipython",
    "version": 3
   },
   "file_extension": ".py",
   "mimetype": "text/x-python",
   "name": "python",
   "nbconvert_exporter": "python",
   "pygments_lexer": "ipython3",
   "version": "3.7.6"
  }
 },
 "nbformat": 4,
 "nbformat_minor": 4
}
