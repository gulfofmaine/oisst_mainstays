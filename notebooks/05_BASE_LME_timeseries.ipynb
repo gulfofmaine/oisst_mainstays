{
 "cells": [
  {
   "cell_type": "markdown",
   "metadata": {},
   "source": [
    "# OISST Timeseries - Large Marine Ecosystems\n",
    "\n",
    "**ABOUT:**\n",
    "Timelines of temperature anomalies, their variance, and their likelihood within the scope of each large marine ecosystem.\n",
    "\n",
    "## Product 4. OISST Regional Timeseries\n",
    "\n",
    "\n",
    "**Objective: Calculate full sea surface temperature histories for the large marine ecosystems**"
   ]
  },
  {
   "cell_type": "code",
   "execution_count": 1,
   "metadata": {},
   "outputs": [
    {
     "name": "stdout",
     "output_type": "stream",
     "text": [
      "Working via local directory at: /Users/akemberling/Box/\n"
     ]
    },
    {
     "data": {
      "text/plain": [
       "{'divide': 'warn', 'over': 'warn', 'under': 'ignore', 'invalid': 'warn'}"
      ]
     },
     "execution_count": 1,
     "metadata": {},
     "output_type": "execute_result"
    }
   ],
   "source": [
    "# Load Packages\n",
    "import xarray as xr\n",
    "import numpy as np\n",
    "import pandas as pd\n",
    "import matplotlib.pyplot as plt\n",
    "import warnings\n",
    "import os\n",
    "import geopandas as gpd\n",
    "import regionmask\n",
    "import math\n",
    "\n",
    "# Set the workspace - local/ docker\n",
    "workspace = \"local\"\n",
    "\n",
    "# Root paths\n",
    "root_locations = {\"local\"  : \"/Users/akemberling/Box/\",\n",
    "                  \"docker\" : \"/home/jovyan/\"}\n",
    "\n",
    "\n",
    "# Set root\n",
    "box_root = root_locations[workspace]\n",
    "print(f\"Working via {workspace} directory at: {box_root}\")\n",
    "\n",
    "\n",
    "#Suppress divide by NA error that occurs when getting mean from array\n",
    "np.seterr(divide = 'ignore', invalid = 'ignore')"
   ]
  },
  {
   "cell_type": "markdown",
   "metadata": {},
   "source": [
    "## Step 1: Load LME Polygons\n",
    "\n",
    "As a favor for myself I put all the large marine ecosystems and their file paths into a csv file so I would not need to loop over the names for this time around."
   ]
  },
  {
   "cell_type": "code",
   "execution_count": 2,
   "metadata": {},
   "outputs": [
    {
     "data": {
      "text/html": [
       "<div>\n",
       "<style scoped>\n",
       "    .dataframe tbody tr th:only-of-type {\n",
       "        vertical-align: middle;\n",
       "    }\n",
       "\n",
       "    .dataframe tbody tr th {\n",
       "        vertical-align: top;\n",
       "    }\n",
       "\n",
       "    .dataframe thead th {\n",
       "        text-align: right;\n",
       "    }\n",
       "</style>\n",
       "<table border=\"1\" class=\"dataframe\">\n",
       "  <thead>\n",
       "    <tr style=\"text-align: right;\">\n",
       "      <th></th>\n",
       "      <th>lme_number</th>\n",
       "      <th>lme_name</th>\n",
       "      <th>full_poly_file</th>\n",
       "      <th>outer_bound_file</th>\n",
       "    </tr>\n",
       "  </thead>\n",
       "  <tbody>\n",
       "    <tr>\n",
       "      <th>29</th>\n",
       "      <td>30</td>\n",
       "      <td>Agulhas Current</td>\n",
       "      <td>LMEbb_30_all.geojson</td>\n",
       "      <td>LMEbb_30_bounding.geojson</td>\n",
       "    </tr>\n",
       "    <tr>\n",
       "      <th>64</th>\n",
       "      <td>65</td>\n",
       "      <td>Aleutian Islands</td>\n",
       "      <td>LMEbb_65_all.geojson</td>\n",
       "      <td>LMEbb_65_bounding.geojson</td>\n",
       "    </tr>\n",
       "    <tr>\n",
       "      <th>60</th>\n",
       "      <td>61</td>\n",
       "      <td>Antarctica</td>\n",
       "      <td>LMEbb_61_all.geojson</td>\n",
       "      <td>LMEbb_61_bounding.geojson</td>\n",
       "    </tr>\n",
       "    <tr>\n",
       "      <th>31</th>\n",
       "      <td>32</td>\n",
       "      <td>Arabian Sea</td>\n",
       "      <td>LMEbb_32_all.geojson</td>\n",
       "      <td>LMEbb_32_bounding.geojson</td>\n",
       "    </tr>\n",
       "    <tr>\n",
       "      <th>22</th>\n",
       "      <td>23</td>\n",
       "      <td>Baltic Sea</td>\n",
       "      <td>LMEbb_23_all.geojson</td>\n",
       "      <td>LMEbb_23_bounding.geojson</td>\n",
       "    </tr>\n",
       "  </tbody>\n",
       "</table>\n",
       "</div>"
      ],
      "text/plain": [
       "    lme_number          lme_name        full_poly_file  \\\n",
       "29          30   Agulhas Current  LMEbb_30_all.geojson   \n",
       "64          65  Aleutian Islands  LMEbb_65_all.geojson   \n",
       "60          61        Antarctica  LMEbb_61_all.geojson   \n",
       "31          32       Arabian Sea  LMEbb_32_all.geojson   \n",
       "22          23        Baltic Sea  LMEbb_23_all.geojson   \n",
       "\n",
       "             outer_bound_file  \n",
       "29  LMEbb_30_bounding.geojson  \n",
       "64  LMEbb_65_bounding.geojson  \n",
       "60  LMEbb_61_bounding.geojson  \n",
       "31  LMEbb_32_bounding.geojson  \n",
       "22  LMEbb_23_bounding.geojson  "
      ]
     },
     "execution_count": 2,
     "metadata": {},
     "output_type": "execute_result"
    }
   ],
   "source": [
    "# This csv contains naming/number structure for the Large Marine Ecosystems\n",
    "lme_info = pd.read_csv(f\"{box_root}NSF OKN Demo Data/large_marine_ecosystems/lme_names_key.csv\").sort_values(\"lme_name\")\n",
    "lme_info.head()"
   ]
  },
  {
   "cell_type": "code",
   "execution_count": 3,
   "metadata": {},
   "outputs": [
    {
     "data": {
      "text/plain": [
       "<matplotlib.axes._subplots.AxesSubplot at 0x7f91a1aa4320>"
      ]
     },
     "execution_count": 3,
     "metadata": {},
     "output_type": "execute_result"
    },
    {
     "data": {
      "image/png": "[encoded data removed]",
      "text/plain": [
       "<Figure size 432x288 with 1 Axes>"
      ]
     },
     "metadata": {
      "needs_background": "light"
     },
     "output_type": "display_data"
    }
   ],
   "source": [
    "# Load polygons using the table\n",
    "lme_polys = []\n",
    "for i, area_path in lme_info.iterrows():\n",
    "    shape = gpd.read_file(f\"{box_root}NSF OKN Demo Data/large_marine_ecosystems/{area_path.full_poly_file}\")\n",
    "    lme_polys.append(shape)\n",
    "\n",
    "# Plot a single area - Agulhas Current\n",
    "lme_polys[0].plot()"
   ]
  },
  {
   "cell_type": "markdown",
   "metadata": {},
   "source": [
    "## Step 2: Load OISST Collection\n",
    "\n",
    "Timelines for these area haven't been calculates yet so it should be possible to do the full thing all at once. Steps are to load the observed data, get what the mean sst is for every day as a timeseries, as well as what the climatology is for that day of the year."
   ]
  },
  {
   "cell_type": "code",
   "execution_count": 4,
   "metadata": {},
   "outputs": [],
   "source": [
    "# Years to Include\n",
    "start_yr = 1981\n",
    "end_yr = 2020\n",
    "\n",
    "# OISST Root Path\n",
    "oisst_location  = f'{box_root}RES_Data/OISST/oisst_mainstays/annual_observations/'\n",
    "\n",
    "\n",
    "# Append netcdf paths together in a list\n",
    "fpaths = []\n",
    "for yr in range(start_yr, end_yr + 1):\n",
    "    fpaths.append(f'{oisst_location}sst.day.mean.{yr}.v2.nc')\n",
    "\n",
    "# Lazy-load the data using xr.open_mfdataset\n",
    "oisst = xr.open_mfdataset(fpaths, combine = \"by_coords\", parallel = False)\n",
    "oisst\n",
    "\n",
    "\n",
    "# Add modified ordinal day, for day-to-day calculation and leapyear adjustment\n",
    "not_leap_year        = ~oisst.indexes['time'].is_leap_year\n",
    "march_or_later       = oisst.time.dt.month >= 3\n",
    "ordinal_day          = oisst.time.dt.dayofyear\n",
    "modified_ordinal_day = ordinal_day + (not_leap_year & march_or_later)\n",
    "\n",
    "# Assign MOD coordinate\n",
    "oisst = oisst.assign_coords(modified_ordinal_day = modified_ordinal_day)"
   ]
  },
  {
   "cell_type": "markdown",
   "metadata": {},
   "source": [
    "## Step 3: Load OISST Climatology\n",
    "\n",
    "From the global extent climatology we will want to get regional means for the areas of interest."
   ]
  },
  {
   "cell_type": "code",
   "execution_count": 5,
   "metadata": {},
   "outputs": [],
   "source": [
    "# Load the OISST Climatology\n",
    "oisst_clim = xr.open_dataset(f\"{box_root}RES_Data/OISST/oisst_mainstays/daily_climatologies/daily_clims_1982to2011.nc\")"
   ]
  },
  {
   "cell_type": "markdown",
   "metadata": {},
   "source": [
    "## Step 4: Create Masked Timeseries\n",
    "\n",
    "So the steps to create a masked timeseries are straightforward. Once everything is prepped you simply create a mask with the geometry of the polygon of interest. You then extract the cells that fall within it, and calculatet the mean temperature and standard deviation for the area for each time step. These steps are repeated for the raw observations as well as the climate means in order to get anomalies from the 82-2011 climatology."
   ]
  },
  {
   "cell_type": "code",
   "execution_count": 6,
   "metadata": {},
   "outputs": [
    {
     "name": "stdout",
     "output_type": "stream",
     "text": [
      "Agulhas Current timeseries processed.\n",
      "Aleutian Islands timeseries processed.\n",
      "Antarctica timeseries processed.\n",
      "Arabian Sea timeseries processed.\n",
      "Baltic Sea timeseries processed.\n",
      "Barents Sea timeseries processed.\n",
      "Bay of Bengal timeseries processed.\n",
      "Beaufort Sea timeseries processed.\n",
      "Benguela Current timeseries processed.\n",
      "Black Sea timeseries processed.\n",
      "California Current timeseries processed.\n",
      "Canadian Eastern Arctic - West Greenland timeseries processed.\n",
      "Canadian High Arctic - North Greenland timeseries processed.\n",
      "Canary Current timeseries processed.\n",
      "Caribbean Sea timeseries processed.\n",
      "Celtic-Biscay Shelf timeseries processed.\n",
      "Central Arctic timeseries processed.\n",
      "East Bering Sea timeseries processed.\n",
      "East Brazil Shelf timeseries processed.\n",
      "East Central Australian Shelf timeseries processed.\n",
      "East China Sea timeseries processed.\n",
      "East Siberian Sea timeseries processed.\n",
      "Faroe Plateau timeseries processed.\n",
      "Greenland Sea timeseries processed.\n",
      "Guinea Current timeseries processed.\n",
      "Gulf of Alaska timeseries processed.\n",
      "Gulf of California timeseries processed.\n",
      "Gulf of Mexico timeseries processed.\n",
      "Gulf of Thailand timeseries processed.\n",
      "Hudson Bay Complex timeseries processed.\n",
      "Humboldt Current timeseries processed.\n",
      "Iberian Coastal timeseries processed.\n",
      "Iceland Shelf and Sea timeseries processed.\n",
      "Indonesian Sea timeseries processed.\n",
      "Insular Pacific-Hawaiian timeseries processed.\n",
      "Kara Sea timeseries processed.\n",
      "Kuroshio Current timeseries processed.\n",
      "Labrador - Newfoundland timeseries processed.\n",
      "Laptev Sea timeseries processed.\n",
      "Mediterranean Sea timeseries processed.\n",
      "New Zealand Shelf timeseries processed.\n",
      "North Australian Shelf timeseries processed.\n",
      "North Brazil Shelf timeseries processed.\n",
      "North Sea timeseries processed.\n",
      "Northeast Australian Shelf timeseries processed.\n",
      "Northeast U.S. Continental Shelf timeseries processed.\n",
      "Northern Bering - Chukchi Seas timeseries processed.\n",
      "Northwest Australian Shelf timeseries processed.\n",
      "Norwegian Sea timeseries processed.\n",
      "Oyashio Current timeseries processed.\n",
      "Pacific Central-American Coastal timeseries processed.\n",
      "Patagonian Shelf timeseries processed.\n",
      "Red Sea timeseries processed.\n",
      "Scotian Shelf timeseries processed.\n",
      "Sea of Japan timeseries processed.\n",
      "Sea of Okhotsk timeseries processed.\n",
      "Somali Coastal Current timeseries processed.\n",
      "South Brazil Shelf timeseries processed.\n",
      "South China Sea timeseries processed.\n",
      "South West Australian Shelf timeseries processed.\n",
      "Southeast Australian Shelf timeseries processed.\n",
      "Southeast U.S. Continental Shelf timeseries processed.\n",
      "Sulu-Celebes Sea timeseries processed.\n",
      "West Bering Sea timeseries processed.\n",
      "West Central Australian Shelf timeseries processed.\n",
      "Yellow Sea timeseries processed.\n"
     ]
    }
   ],
   "source": [
    "# Global Settings\n",
    "var_name  = \"sst\"\n",
    "grid_ds = oisst\n",
    "clim_ds = oisst_clim\n",
    "\n",
    "# list to store them un-appended\n",
    "new_ts = []\n",
    "\n",
    "\n",
    "##### Super loop for all the LME's  ####\n",
    "for i, area in lme_info.iterrows():\n",
    "    \n",
    "\n",
    "    # Grab the shape object the we are looping through\n",
    "    shp_obj = lme_polys[i] \n",
    "    shp_name = area[\"lme_name\"]\n",
    "    poly_name = area[\"lme_name\"].replace(\" \", \"_\").replace(\"-\", \"_\").replace(\"___\", \"_\").replace(\"__\", \"_\").lower()\n",
    "    \n",
    "    \n",
    "    \n",
    "    ##\n",
    "    # 1. Calculate Mu and Sigma from climatology for area within polygon\n",
    "    ##\n",
    "\n",
    "    # a. Set up naming convention for var of interest\n",
    "    clim_name = f\"{var_name}_clim\"\n",
    "    sd_name   = f\"clim_sd\"\n",
    "\n",
    "    # b. Make the mask\n",
    "    area_mask = regionmask.Regions(shp_obj.geometry,\n",
    "                                   name = shp_name)\n",
    "\n",
    "    # c. Mask the array to get nan test\n",
    "    mask = area_mask.mask(clim_ds, lon_name = \"lon\", lat_name = \"lat\")\n",
    "\n",
    "    # d. Extract data that falls within the mask\n",
    "    masked_ds = clim_ds.where(~np.isnan(mask))\n",
    "\n",
    "    # e. Calculate timeseries mean and sd\n",
    "    masked_ts = getattr(masked_ds, var_name).mean(dim = (\"lat\", \"lon\"))#\n",
    "    masked_ts[f\"{sd_name}\"] = getattr(masked_ds, var_name).std(dim = (\"lat\", \"lon\"))\n",
    "\n",
    "\n",
    "    # f. Format masked timeseries dataframe\n",
    "    regional_climatology = masked_ts.to_dataframe()\n",
    "    regional_climatology = regional_climatology.reset_index()\n",
    "    regional_climatology = regional_climatology.rename(columns = {f\"{var_name}\" : f\"{clim_name}\"})\n",
    "    \n",
    "\n",
    "\n",
    "    ##\n",
    "    # 2. Calculate Mean Var Timeline from Observed Data for Area Within Polygon\n",
    "    ##\n",
    "\n",
    "\n",
    "    # a. Make the mask\n",
    "    area_mask = regionmask.Regions(shp_obj.geometry,\n",
    "                                   name = shp_name)\n",
    "\n",
    "    # b. Mask the array with gom_mask to get nan test\n",
    "    mask = area_mask.mask(grid_ds, lon_name = \"lon\", lat_name = \"lat\")\n",
    "\n",
    "    # c. Extract data that falls within the mask\n",
    "    masked_ds = grid_ds.where(~np.isnan(mask))\n",
    "\n",
    "    # d. Calculate timeseries mean and sd\n",
    "    masked_ts = getattr(masked_ds, var_name).mean(dim = (\"lat\", \"lon\"))\n",
    "\n",
    "\n",
    "    # e. Masked Timeseries Dataframe\n",
    "    regional_means = masked_ts.to_dataframe()\n",
    "    regional_means = regional_means.reset_index()\n",
    "    regional_means[\"time\"] = pd.to_datetime(regional_means[\"time\"])\n",
    "\n",
    "\n",
    "\n",
    "    ##\n",
    "    # 3. Log-Likelihood Estimate\n",
    "    ##\n",
    "\n",
    "    # Merge on MOD\n",
    "    anom_timeline = regional_means.merge(regional_climatology, how = \"left\", on = \"modified_ordinal_day\")\n",
    "\n",
    "    #Set index as the date\n",
    "    anom_timeline.index = anom_timeline.index = anom_timeline[\"time\"]\n",
    "    anom_timeline = anom_timeline.drop([\"time\"], axis = 1)\n",
    "\n",
    "    #Calc anoms\n",
    "    anom_timeline = anom_timeline.assign(anom = anom_timeline[f\"{var_name}\"] - anom_timeline[f\"{clim_name}\"])\n",
    "    anom_timeline = anom_timeline.rename(columns = { \"anom\" : f\"{var_name}_anom\"})\n",
    "\n",
    "    # get likelihood\n",
    "    def calc_ll(row):\n",
    "        # log likelihood \n",
    "        n = 1\n",
    "        anom  = row[f\"{var_name}\"]\n",
    "        sigma = row[\"clim_sd\"]\n",
    "        mu    = row[f\"{clim_name}\"]\n",
    "        log_lik = n * math.log(2 * math.pi * (sigma ** 2)) / 2 + np.sum(((anom - mu) ** 2) / (2 * (sigma ** 2)))\n",
    "        return log_lik\n",
    "\n",
    "    #anom_timeline.apply(llnorm, axis = 1, args = anom_timeline[[\"sst_clim\", \"clim_sd\", \"sst_anom\"]])\n",
    "    anom_timeline[\"log_lik\"] = anom_timeline.apply(calc_ll, axis = 1)\n",
    "    anom_timeline = anom_timeline.reset_index()\n",
    "    \n",
    "    # re-order columns for peace of mind\n",
    "    anom_timeline = anom_timeline[[\"time\", \"modified_ordinal_day\", \"sst\", \"sst_clim\", \"sst_anom\", \"clim_sd\", \"log_lik\"]]\n",
    "    \n",
    "    # add to list\n",
    "    new_ts.append(anom_timeline)\n",
    "    \n",
    "    # print name for progress report\n",
    "    print(f\"{shp_name} timeseries processed.\")"
   ]
  },
  {
   "cell_type": "markdown",
   "metadata": {},
   "source": [
    "## Validation: Table head and Plot"
   ]
  },
  {
   "cell_type": "code",
   "execution_count": 7,
   "metadata": {},
   "outputs": [
    {
     "data": {
      "text/html": [
       "<div>\n",
       "<style scoped>\n",
       "    .dataframe tbody tr th:only-of-type {\n",
       "        vertical-align: middle;\n",
       "    }\n",
       "\n",
       "    .dataframe tbody tr th {\n",
       "        vertical-align: top;\n",
       "    }\n",
       "\n",
       "    .dataframe thead th {\n",
       "        text-align: right;\n",
       "    }\n",
       "</style>\n",
       "<table border=\"1\" class=\"dataframe\">\n",
       "  <thead>\n",
       "    <tr style=\"text-align: right;\">\n",
       "      <th></th>\n",
       "      <th>time</th>\n",
       "      <th>modified_ordinal_day</th>\n",
       "      <th>sst</th>\n",
       "      <th>sst_clim</th>\n",
       "      <th>sst_anom</th>\n",
       "      <th>clim_sd</th>\n",
       "      <th>log_lik</th>\n",
       "    </tr>\n",
       "  </thead>\n",
       "  <tbody>\n",
       "    <tr>\n",
       "      <th>0</th>\n",
       "      <td>1981-09-01</td>\n",
       "      <td>245</td>\n",
       "      <td>5.126844</td>\n",
       "      <td>5.179364</td>\n",
       "      <td>-0.052520</td>\n",
       "      <td>2.721179</td>\n",
       "      <td>1.920190</td>\n",
       "    </tr>\n",
       "    <tr>\n",
       "      <th>1</th>\n",
       "      <td>1981-09-02</td>\n",
       "      <td>246</td>\n",
       "      <td>5.144029</td>\n",
       "      <td>5.130116</td>\n",
       "      <td>0.013913</td>\n",
       "      <td>2.675931</td>\n",
       "      <td>1.903249</td>\n",
       "    </tr>\n",
       "    <tr>\n",
       "      <th>2</th>\n",
       "      <td>1981-09-03</td>\n",
       "      <td>247</td>\n",
       "      <td>5.032818</td>\n",
       "      <td>5.101026</td>\n",
       "      <td>-0.068208</td>\n",
       "      <td>2.639488</td>\n",
       "      <td>1.889858</td>\n",
       "    </tr>\n",
       "    <tr>\n",
       "      <th>3</th>\n",
       "      <td>1981-09-04</td>\n",
       "      <td>248</td>\n",
       "      <td>4.911862</td>\n",
       "      <td>5.053141</td>\n",
       "      <td>-0.141279</td>\n",
       "      <td>2.604544</td>\n",
       "      <td>1.877667</td>\n",
       "    </tr>\n",
       "    <tr>\n",
       "      <th>4</th>\n",
       "      <td>1981-09-05</td>\n",
       "      <td>249</td>\n",
       "      <td>4.947023</td>\n",
       "      <td>4.987466</td>\n",
       "      <td>-0.040443</td>\n",
       "      <td>2.580985</td>\n",
       "      <td>1.867232</td>\n",
       "    </tr>\n",
       "  </tbody>\n",
       "</table>\n",
       "</div>"
      ],
      "text/plain": [
       "        time  modified_ordinal_day       sst  sst_clim  sst_anom   clim_sd  \\\n",
       "0 1981-09-01                   245  5.126844  5.179364 -0.052520  2.721179   \n",
       "1 1981-09-02                   246  5.144029  5.130116  0.013913  2.675931   \n",
       "2 1981-09-03                   247  5.032818  5.101026 -0.068208  2.639488   \n",
       "3 1981-09-04                   248  4.911862  5.053141 -0.141279  2.604544   \n",
       "4 1981-09-05                   249  4.947023  4.987466 -0.040443  2.580985   \n",
       "\n",
       "    log_lik  \n",
       "0  1.920190  \n",
       "1  1.903249  \n",
       "2  1.889858  \n",
       "3  1.877667  \n",
       "4  1.867232  "
      ]
     },
     "execution_count": 7,
     "metadata": {},
     "output_type": "execute_result"
    }
   ],
   "source": [
    "# Reminder LME 46 is US NE Shelf\n",
    "new_ts[0].head()"
   ]
  },
  {
   "cell_type": "code",
   "execution_count": 9,
   "metadata": {},
   "outputs": [
    {
     "data": {
      "text/plain": [
       "<matplotlib.axes._subplots.AxesSubplot at 0x7f91a1af6828>"
      ]
     },
     "execution_count": 9,
     "metadata": {},
     "output_type": "execute_result"
    },
    {
     "data": {
      "image/png": "[encoded data removed]",
      "text/plain": [
       "<Figure size 432x288 with 1 Axes>"
      ]
     },
     "metadata": {
      "needs_background": "light"
     },
     "output_type": "display_data"
    }
   ],
   "source": [
    "new_ts[45].plot(\"time\", \"sst_anom\")"
   ]
  },
  {
   "cell_type": "markdown",
   "metadata": {},
   "source": [
    "## Step 5: Export\n",
    "\n",
    "**NOTE:**\n",
    "Some of the large marine ecosystem names contain a hyphen, so added an extra step to replace those."
   ]
  },
  {
   "cell_type": "code",
   "execution_count": 10,
   "metadata": {},
   "outputs": [],
   "source": [
    "# Information Constants\n",
    "\n",
    "# Timeseries destination folder\n",
    "out_folder = f\"{box_root}RES_Data/OISST/oisst_mainstays/regional_timeseries/large_marine_ecosystems\"\n",
    "\n",
    "# Anomaly grid name\n",
    "grid_name = \"OISSTv2_anom\"\n",
    "\n",
    "##### Loop for all the LME's  ####\n",
    "for i, area in lme_info.iterrows():\n",
    "    \n",
    "     # Fix the spaces and other characters in the name\n",
    "    mask_name = area[\"lme_name\"].replace(\" \", \"_\").replace(\"-\", \"_\").replace(\"___\", \"_\").replace(\"__\", \"_\").lower()  \n",
    "    \n",
    "    \n",
    "    # Path to the timeseries\n",
    "    out_path = f\"{out_folder}/{grid_name}_{mask_name}.csv\"\n",
    "    \n",
    "    # print to check\n",
    "    #print(out_path)\n",
    "    \n",
    "    # And export\n",
    "    new_ts[i].to_csv(out_path, index = False)"
   ]
  },
  {
   "cell_type": "code",
   "execution_count": null,
   "metadata": {},
   "outputs": [],
   "source": []
  }
 ],
 "metadata": {
  "kernelspec": {
   "display_name": "Python 3",
   "language": "python",
   "name": "python3"
  },
  "language_info": {
   "codemirror_mode": {
    "name": "ipython",
    "version": 3
   },
   "file_extension": ".py",
   "mimetype": "text/x-python",
   "name": "python",
   "nbconvert_exporter": "python",
   "pygments_lexer": "ipython3",
   "version": "3.6.7"
  }
 },
 "nbformat": 4,
 "nbformat_minor": 4
}
