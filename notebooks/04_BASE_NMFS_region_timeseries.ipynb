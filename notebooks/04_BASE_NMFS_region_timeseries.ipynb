{
 "cells": [
  {
   "cell_type": "markdown",
   "metadata": {},
   "source": [
    "# OISST Timeseries - NMFS Trawl Regions\n",
    "\n",
    "**ABOUT:**\n",
    "Now that there exist climatologies and anomalies from those climate means the last product is then an application of those approaches, but within the scope of a specific area. For these we want to know what the average temperature was across a specific group of pixels defined by a polygon of interest. From those regional climatologies we can get timelines of temperature anomalies, their variance, and their likelihood with a regional scope.\n",
    "\n",
    "## Product 4. OISST Regional Timeseries\n",
    "\n",
    "\n",
    "**Objective: Calculate full sea surface temperature histories for the NMFS trawl regions (Georges Bank, Gulf of Maine, Southern New England, Mid-Atlantic Bight)**\n"
   ]
  },
  {
   "cell_type": "code",
   "execution_count": 5,
   "metadata": {},
   "outputs": [
    {
     "name": "stdout",
     "output_type": "stream",
     "text": [
      "Working via local directory at: /Users/akemberling/Box/\n"
     ]
    },
    {
     "data": {
      "text/plain": [
       "{'divide': 'ignore', 'over': 'warn', 'under': 'ignore', 'invalid': 'ignore'}"
      ]
     },
     "execution_count": 5,
     "metadata": {},
     "output_type": "execute_result"
    }
   ],
   "source": [
    "# Load Packages\n",
    "import xarray as xr\n",
    "import numpy as np\n",
    "import pandas as pd\n",
    "import matplotlib.pyplot as plt\n",
    "import warnings\n",
    "import os\n",
    "import geopandas as gpd\n",
    "import regionmask\n",
    "import math\n",
    "\n",
    "# Set the workspace - local/ docker\n",
    "workspace = \"local\"\n",
    "\n",
    "# Root paths\n",
    "root_locations = {\"local\"  : \"/Users/akemberling/Box/\",\n",
    "                  \"docker\" : \"/home/jovyan/\"}\n",
    "\n",
    "\n",
    "# Set root\n",
    "box_root = root_locations[workspace]\n",
    "print(f\"Working via {workspace} directory at: {box_root}\")\n",
    "\n",
    "\n",
    "#Suppress divide by NA error that occurs when getting mean from array\n",
    "np.seterr(divide = 'ignore', invalid = 'ignore')"
   ]
  },
  {
   "cell_type": "markdown",
   "metadata": {},
   "source": [
    "## Step 1: Load the NMFS Regions\n",
    "\n",
    "The following regions are composites of various strata from the [Northeast Groundfish Trawl Survey](https://www.fisheries.noaa.gov/region/new-england-mid-atlantic)\n",
    "\n",
    "The region shapes being loaded were created in R using the following allocations:\n",
    "\n",
    "\"Southern New England\"  = strata 01:12   \n",
    "\"Georges Bank\"          = strata 13:23   \n",
    "\"Gulf of Maine\"         = strata 24:40   \n",
    "\"Mid-Atlantic Bight\"    = strata 61:76   \n",
    "\n",
    "Code for their creation can be found at:\n",
    "https://github.com/adamkemberling/nefsc_trawl/blob/master/R/10_nefsc_regional_polys.R"
   ]
  },
  {
   "cell_type": "code",
   "execution_count": 6,
   "metadata": {},
   "outputs": [
    {
     "data": {
      "text/plain": [
       "<matplotlib.axes._subplots.AxesSubplot at 0x7facf4959048>"
      ]
     },
     "execution_count": 6,
     "metadata": {},
     "output_type": "execute_result"
    },
    {
     "data": {
      "image/png": "[encoded data removed]",
      "text/plain": [
       "<Figure size 432x288 with 1 Axes>"
      ]
     },
     "metadata": {
      "needs_background": "light"
     },
     "output_type": "display_data"
    }
   ],
   "source": [
    "# Load trawl regions - created in R code\n",
    "trawl_area_paths = {\n",
    "    \"Georges Bank\"         : f\"{box_root}RES_Data/Shapefiles/nmfs_trawl_regions/nmfs_trawl_georges_bank.geojson\",\n",
    "    \"Gulf of Maine\"        : f\"{box_root}RES_Data/Shapefiles/nmfs_trawl_regions/nmfs_trawl_gulf_of_maine.geojson\",\n",
    "    \"Southern New England\" : f\"{box_root}RES_Data/Shapefiles/nmfs_trawl_regions/nmfs_trawl_southern_new_england.geojson\",\n",
    "    \"Mid-Atlantic Bight\"   : f\"{box_root}RES_Data/Shapefiles/nmfs_trawl_regions/nmfs_trawl_mid_atlantic_bight.geojson\"}\n",
    "\n",
    "# Format the lookup table\n",
    "trawl_area_info = pd.DataFrame.from_dict(trawl_area_paths, orient = \"index\", columns = [\"path\"])\n",
    "trawl_area_info = trawl_area_info.reset_index().rename(columns = {\"index\": \"area\"})\n",
    "\n",
    "# Load polygons\n",
    "trawl_areas = []\n",
    "for i, area_path in trawl_area_info.iterrows():\n",
    "    shape = gpd.read_file(area_path.path)\n",
    "    trawl_areas.append(shape)\n",
    "\n",
    "# Plot a single area - Georges Bank\n",
    "trawl_areas[0].plot()"
   ]
  },
  {
   "cell_type": "markdown",
   "metadata": {},
   "source": [
    "## Step 2: Load OISST Collection\n",
    "\n",
    "Timelines for these area haven't been calculates yet so it should be possible to do the full thing all at once. Steps are to load the observed data, get what the mean sst is for every day as a timeseries, as well as what the climatology is for that day of the year."
   ]
  },
  {
   "cell_type": "code",
   "execution_count": 7,
   "metadata": {},
   "outputs": [],
   "source": [
    "# Append netcdf paths together\n",
    "fpaths = []\n",
    "for yr in range(1981, 2020 + 1):\n",
    "    fpaths.append(f'{box_root}RES_Data/OISST/oisst_mainstays/annual_observations/sst.day.mean.{yr}.v2.nc')\n",
    "\n",
    "# Lazy-load the data itself using xr.open_mfdataset\n",
    "oisst = xr.open_mfdataset(fpaths, combine = \"by_coords\", parallel = False)\n",
    "oisst\n",
    "\n",
    "\n",
    "# Add modified ordinal day, for day-to-day calculation and leapyear adjustment\n",
    "not_leap_year        = ~oisst.indexes['time'].is_leap_year\n",
    "march_or_later       = oisst.time.dt.month >= 3\n",
    "ordinal_day          = oisst.time.dt.dayofyear\n",
    "modified_ordinal_day = ordinal_day + (not_leap_year & march_or_later)\n",
    "\n",
    "# Assign MOD coordinate\n",
    "oisst = oisst.assign_coords(modified_ordinal_day = modified_ordinal_day)"
   ]
  },
  {
   "cell_type": "markdown",
   "metadata": {},
   "source": [
    "## Step 3: Load OISST Climatology\n",
    "\n",
    "From the global extent climatology we will want to get regional means for the areas of interest."
   ]
  },
  {
   "cell_type": "code",
   "execution_count": 8,
   "metadata": {},
   "outputs": [],
   "source": [
    "# Load the OISST Climatology\n",
    "oisst_clim = xr.open_dataset(f'{box_root}RES_Data/OISST/oisst_mainstays/daily_climatologies/daily_clims_1982to2011.nc')"
   ]
  },
  {
   "cell_type": "markdown",
   "metadata": {},
   "source": [
    "## Step 4: Create Masked Timeseries\n",
    "\n",
    "So the steps to create a masked timeseries are straightforward. Once everything is prepped you simply create a mask with the geometry of the polygon of interest. You then extract the cells that fall within it, and calculatet the mean temperature and standard deviation for the area for each time step. These steps are repeated for the raw observations as well as the climate means in order to get anomalies from the 82-2011 climatology."
   ]
  },
  {
   "cell_type": "code",
   "execution_count": 9,
   "metadata": {},
   "outputs": [],
   "source": [
    "# Global Settings\n",
    "var_name = \"sst\"\n",
    "grid_ds  = oisst\n",
    "clim_ds  = oisst_clim\n",
    "\n",
    "# list to store them un-appended\n",
    "new_ts = []\n",
    "\n",
    "##### Loop for all the LME's  ####\n",
    "for i, area in trawl_area_info.iterrows():\n",
    "    \n",
    "\n",
    "    # Grab the shape object the we are looping through\n",
    "    shp_obj   = trawl_areas[i] \n",
    "    shp_name  = area[\"area\"]\n",
    "    poly_name = area[\"area\"].replace(\" \", \"_\").lower()  \n",
    "    \n",
    "    \n",
    "    \n",
    "    ##\n",
    "    # 1. Calculate Mu and Sigma from climatology for area within polygon\n",
    "    ##\n",
    "\n",
    "    # a. Set up naming convention for var of interest\n",
    "    clim_name = f\"{var_name}_clim\"\n",
    "    sd_name   = f\"clim_sd\"\n",
    "\n",
    "    # b. Make the mask\n",
    "    area_mask = regionmask.Regions(shp_obj.geometry,\n",
    "                                   name = shp_name)\n",
    "\n",
    "    # c. Mask the array to get nan test\n",
    "    mask = area_mask.mask(clim_ds, lon_name = \"lon\", lat_name = \"lat\")\n",
    "\n",
    "    # d. Extract data that falls within the mask\n",
    "    masked_ds = clim_ds.where(~np.isnan(mask))\n",
    "\n",
    "    # e. Calculate timeseries mean and sd\n",
    "    masked_ts = getattr(masked_ds, var_name).mean(dim = (\"lat\", \"lon\"))#\n",
    "    masked_ts[f\"{sd_name}\"] = getattr(masked_ds, var_name).std(dim = (\"lat\", \"lon\"))\n",
    "\n",
    "\n",
    "    # f. Format masked timeseries dataframe\n",
    "    regional_climatology = masked_ts.to_dataframe()\n",
    "    regional_climatology = regional_climatology.reset_index()\n",
    "    regional_climatology = regional_climatology.rename(columns = {f\"{var_name}\" : f\"{clim_name}\"})\n",
    "    \n",
    "\n",
    "\n",
    "    ##\n",
    "    # 2. Calculate Mean Var Timeline from Observed Data for Area Within Polygon\n",
    "    ##\n",
    "\n",
    "\n",
    "    # a. Make the mask\n",
    "    area_mask = regionmask.Regions(shp_obj.geometry,\n",
    "                                   name = shp_name)\n",
    "\n",
    "    # b. Mask the array with gom_mask to get nan test\n",
    "    mask = area_mask.mask(grid_ds, lon_name = \"lon\", lat_name = \"lat\")\n",
    "\n",
    "    # c. Extract data that falls within the mask\n",
    "    masked_ds = grid_ds.where(~np.isnan(mask))\n",
    "\n",
    "    # d. Calculate timeseries mean and sd\n",
    "    masked_ts = getattr(masked_ds, var_name).mean(dim = (\"lat\", \"lon\"))\n",
    "\n",
    "\n",
    "    # e. Masked Timeseries Dataframe\n",
    "    regional_means = masked_ts.to_dataframe()\n",
    "    regional_means = regional_means.reset_index()\n",
    "    regional_means[\"time\"] = pd.to_datetime(regional_means[\"time\"])\n",
    "\n",
    "\n",
    "\n",
    "\n",
    "    ##\n",
    "    # 3. Log-Likelihood Estimate\n",
    "    ##\n",
    "\n",
    "    # Merge on MOD\n",
    "    anom_timeline = regional_means.merge(regional_climatology, how = \"left\", on = \"modified_ordinal_day\")\n",
    "\n",
    "    #Set index as the date\n",
    "    anom_timeline.index = anom_timeline[\"time\"]\n",
    "    anom_timeline = anom_timeline.drop([\"time\"], axis = 1)\n",
    "\n",
    "    #Calc anoms\n",
    "    anom_timeline = anom_timeline.assign(anom = anom_timeline[f\"{var_name}\"] - anom_timeline[f\"{clim_name}\"])\n",
    "    anom_timeline = anom_timeline.rename(columns = { \"anom\" : f\"{var_name}_anom\"})\n",
    "    \n",
    "    # Get log likelihood Function\n",
    "    def calc_ll(row):\n",
    "        # log likelihood \n",
    "        n = 1\n",
    "        anom  = row[f\"{var_name}\"]\n",
    "        sigma = row[\"clim_sd\"]\n",
    "        mu    = row[f\"{clim_name}\"]\n",
    "        log_lik = n * math.log(2 * math.pi * (sigma ** 2)) / 2 + np.sum(((anom - mu) ** 2) / (2 * (sigma ** 2)))\n",
    "        return log_lik\n",
    "\n",
    "    # Apply log likelihood\n",
    "    anom_timeline[\"log_lik\"] = anom_timeline.apply(calc_ll, axis = 1)\n",
    "    anom_timeline = anom_timeline.reset_index()\n",
    "    \n",
    "    # re-order columns for peace of mind\n",
    "    anom_timeline = anom_timeline[[\"time\", \"modified_ordinal_day\", \"sst\", \"sst_clim\", \"sst_anom\", \"clim_sd\", \"log_lik\"]]\n",
    "    \n",
    "    # add to list\n",
    "    new_ts.append(anom_timeline)"
   ]
  },
  {
   "cell_type": "markdown",
   "metadata": {},
   "source": [
    "## Validation: Table inspection and Plot"
   ]
  },
  {
   "cell_type": "code",
   "execution_count": 10,
   "metadata": {},
   "outputs": [
    {
     "data": {
      "text/html": [
       "<div>\n",
       "<style scoped>\n",
       "    .dataframe tbody tr th:only-of-type {\n",
       "        vertical-align: middle;\n",
       "    }\n",
       "\n",
       "    .dataframe tbody tr th {\n",
       "        vertical-align: top;\n",
       "    }\n",
       "\n",
       "    .dataframe thead th {\n",
       "        text-align: right;\n",
       "    }\n",
       "</style>\n",
       "<table border=\"1\" class=\"dataframe\">\n",
       "  <thead>\n",
       "    <tr style=\"text-align: right;\">\n",
       "      <th></th>\n",
       "      <th>time</th>\n",
       "      <th>modified_ordinal_day</th>\n",
       "      <th>sst</th>\n",
       "      <th>sst_clim</th>\n",
       "      <th>sst_anom</th>\n",
       "      <th>clim_sd</th>\n",
       "      <th>log_lik</th>\n",
       "    </tr>\n",
       "  </thead>\n",
       "  <tbody>\n",
       "    <tr>\n",
       "      <th>0</th>\n",
       "      <td>1981-09-01</td>\n",
       "      <td>245</td>\n",
       "      <td>17.208355</td>\n",
       "      <td>17.858522</td>\n",
       "      <td>-0.650167</td>\n",
       "      <td>1.334107</td>\n",
       "      <td>1.325952</td>\n",
       "    </tr>\n",
       "    <tr>\n",
       "      <th>1</th>\n",
       "      <td>1981-09-02</td>\n",
       "      <td>246</td>\n",
       "      <td>17.087124</td>\n",
       "      <td>17.819725</td>\n",
       "      <td>-0.732601</td>\n",
       "      <td>1.334335</td>\n",
       "      <td>1.358093</td>\n",
       "    </tr>\n",
       "    <tr>\n",
       "      <th>2</th>\n",
       "      <td>1981-09-03</td>\n",
       "      <td>247</td>\n",
       "      <td>16.414795</td>\n",
       "      <td>17.799932</td>\n",
       "      <td>-1.385138</td>\n",
       "      <td>1.354890</td>\n",
       "      <td>1.745233</td>\n",
       "    </tr>\n",
       "    <tr>\n",
       "      <th>3</th>\n",
       "      <td>1981-09-04</td>\n",
       "      <td>248</td>\n",
       "      <td>15.689451</td>\n",
       "      <td>17.748188</td>\n",
       "      <td>-2.058737</td>\n",
       "      <td>1.327617</td>\n",
       "      <td>2.404661</td>\n",
       "    </tr>\n",
       "    <tr>\n",
       "      <th>4</th>\n",
       "      <td>1981-09-05</td>\n",
       "      <td>249</td>\n",
       "      <td>15.607397</td>\n",
       "      <td>17.736906</td>\n",
       "      <td>-2.129509</td>\n",
       "      <td>1.318767</td>\n",
       "      <td>2.499381</td>\n",
       "    </tr>\n",
       "  </tbody>\n",
       "</table>\n",
       "</div>"
      ],
      "text/plain": [
       "        time  modified_ordinal_day        sst   sst_clim  sst_anom   clim_sd  \\\n",
       "0 1981-09-01                   245  17.208355  17.858522 -0.650167  1.334107   \n",
       "1 1981-09-02                   246  17.087124  17.819725 -0.732601  1.334335   \n",
       "2 1981-09-03                   247  16.414795  17.799932 -1.385138  1.354890   \n",
       "3 1981-09-04                   248  15.689451  17.748188 -2.058737  1.327617   \n",
       "4 1981-09-05                   249  15.607397  17.736906 -2.129509  1.318767   \n",
       "\n",
       "    log_lik  \n",
       "0  1.325952  \n",
       "1  1.358093  \n",
       "2  1.745233  \n",
       "3  2.404661  \n",
       "4  2.499381  "
      ]
     },
     "execution_count": 10,
     "metadata": {},
     "output_type": "execute_result"
    }
   ],
   "source": [
    "new_ts[0].head()"
   ]
  },
  {
   "cell_type": "code",
   "execution_count": 11,
   "metadata": {},
   "outputs": [
    {
     "data": {
      "text/plain": [
       "<matplotlib.axes._subplots.AxesSubplot at 0x7facf5aa1400>"
      ]
     },
     "execution_count": 11,
     "metadata": {},
     "output_type": "execute_result"
    },
    {
     "data": {
      "image/png": "[encoded data removed]",
      "text/plain": [
       "<Figure size 432x288 with 1 Axes>"
      ]
     },
     "metadata": {
      "needs_background": "light"
     },
     "output_type": "display_data"
    }
   ],
   "source": [
    "new_ts[0].plot(\"time\", \"sst_anom\")"
   ]
  },
  {
   "cell_type": "markdown",
   "metadata": {},
   "source": [
    "## Step 5: Export"
   ]
  },
  {
   "cell_type": "code",
   "execution_count": 12,
   "metadata": {},
   "outputs": [],
   "source": [
    "# Information Constants\n",
    "\n",
    "# Timeseries destination folder\n",
    "out_folder = f\"{box_root}RES_Data/OISST/oisst_mainstays/regional_timeseries/nmfs_trawl_regions\"\n",
    "\n",
    "# Anomaly Grid Name\n",
    "grid_name = \"OISSTv2_anom\"\n",
    "\n",
    "##### Loop through all the areas  ####\n",
    "for i, area in trawl_area_info.iterrows():\n",
    "    \n",
    "     # Fix the spaces and other characters in the name\n",
    "    mask_name = area[\"area\"].replace(\"-\", \"_\").replace(\" \", \"_\").replace(\"___\", \"_\").replace(\"__\", \"_\").lower()    \n",
    "    \n",
    "    \n",
    "    # Path to the timeseries\n",
    "    out_path = f\"{out_folder}/{grid_name}_{mask_name}.csv\"\n",
    "    \n",
    "    # And export\n",
    "    new_ts[i].to_csv(out_path, index = False)"
   ]
  },
  {
   "cell_type": "code",
   "execution_count": null,
   "metadata": {},
   "outputs": [],
   "source": []
  }
 ],
 "metadata": {
  "kernelspec": {
   "display_name": "Python 3",
   "language": "python",
   "name": "python3"
  },
  "language_info": {
   "codemirror_mode": {
    "name": "ipython",
    "version": 3
   },
   "file_extension": ".py",
   "mimetype": "text/x-python",
   "name": "python",
   "nbconvert_exporter": "python",
   "pygments_lexer": "ipython3",
   "version": "3.6.7"
  }
 },
 "nbformat": 4,
 "nbformat_minor": 4
}
