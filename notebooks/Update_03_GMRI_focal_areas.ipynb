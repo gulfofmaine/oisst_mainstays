{
 "cells": [
  {
   "cell_type": "markdown",
   "metadata": {},
   "source": [
    "# Updating Regional Timeseries for OISST Data\n",
    "\n",
    "**Objective: Update all masked timeseries products to most current OISST data.**\n",
    "\n",
    "## Product 2: Regional Timeseries of Anomalies for GMRI Focal Areas"
   ]
  },
  {
   "cell_type": "code",
   "execution_count": null,
   "metadata": {},
   "outputs": [],
   "source": [
    "# Load Packages\n",
    "import xarray as xr\n",
    "import numpy as np\n",
    "import pandas as pd\n",
    "import matplotlib.pyplot as plt\n",
    "import warnings\n",
    "import os\n",
    "import geopandas as gpd\n",
    "import regionmask\n",
    "import math\n",
    "import oisstools as ot\n",
    "\n",
    "\n",
    "# Root paths\n",
    "root_locations = {\"local\" : \"/Users/akemberling/Box/\",\n",
    "                  \"docker\" : \"/Users/akemberling/Box/\"}\n",
    "\n",
    "# Set the workspace - local/ docker\n",
    "workspace = \"local\"\n",
    "box_root = root_locations[workspace]\n",
    "print(f\"Working via {workspace} directory at: {box_root}\")"
   ]
  },
  {
   "cell_type": "markdown",
   "metadata": {},
   "source": [
    "# Objective 1: Updating LME Timeseries\n",
    "\n",
    "## Load GMRI Focal Area Regional Polygons\n",
    " "
   ]
  },
  {
   "cell_type": "code",
   "execution_count": null,
   "metadata": {},
   "outputs": [],
   "source": []
  },
  {
   "cell_type": "markdown",
   "metadata": {},
   "source": [
    "## Load existing LME timeseries and associated polygons\n",
    "\n",
    "Switching to the likelihood timeseries because they contain the climatology information.\n"
   ]
  },
  {
   "cell_type": "code",
   "execution_count": null,
   "metadata": {},
   "outputs": [],
   "source": []
  },
  {
   "cell_type": "markdown",
   "metadata": {},
   "source": []
  },
  {
   "cell_type": "code",
   "execution_count": null,
   "metadata": {},
   "outputs": [],
   "source": []
  },
  {
   "cell_type": "markdown",
   "metadata": {},
   "source": []
  }
 ],
 "metadata": {
  "kernelspec": {
   "display_name": "Python 3",
   "language": "python",
   "name": "python3"
  },
  "language_info": {
   "codemirror_mode": {
    "name": "ipython",
    "version": 3
   },
   "file_extension": ".py",
   "mimetype": "text/x-python",
   "name": "python",
   "nbconvert_exporter": "python",
   "pygments_lexer": "ipython3",
   "version": "3.6.7"
  }
 },
 "nbformat": 4,
 "nbformat_minor": 4
}
